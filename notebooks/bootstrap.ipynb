{
 "cells": [
  {
   "cell_type": "markdown",
   "metadata": {},
   "source": [
    "# Models from Scratch: Bootstrapping\n",
    "## *Implementation*\n",
    "***"
   ]
  },
  {
   "cell_type": "code",
   "execution_count": 24,
   "metadata": {},
   "outputs": [],
   "source": [
    "import numpy as np\n",
    "from statistics import stdev, mean\n",
    "import seaborn as sns\n",
    "import matplotlib.pyplot as plt\n",
    "%matplotlib inline"
   ]
  },
  {
   "cell_type": "code",
   "execution_count": 25,
   "metadata": {},
   "outputs": [],
   "source": [
    "def bootstrap(data, k=1):\n",
    "    \"\"\"Returns k bootstrap samples from the data\"\"\"\n",
    "    if k <= 0:\n",
    "        raise ValueError(\"k must be greater than 0\")\n",
    "\n",
    "    samples = []\n",
    "    for _ in range(k):\n",
    "        samples.append(np.random.choice(data, len(data), replace=True))\n",
    "\n",
    "    return samples"
   ]
  },
  {
   "cell_type": "markdown",
   "metadata": {},
   "source": [
    "## *Application*\n",
    "***"
   ]
  },
  {
   "cell_type": "markdown",
   "metadata": {},
   "source": [
    "Suppose the population of interest has size 50,000 and follows a Gamma distribution with k=0.5 and θ=1."
   ]
  },
  {
   "cell_type": "code",
   "execution_count": 26,
   "metadata": {},
   "outputs": [],
   "source": [
    "np.random.seed(500)\n",
    "population = np.random.gamma(0.5, scale=1, size=50000)"
   ]
  },
  {
   "cell_type": "code",
   "execution_count": 27,
   "metadata": {},
   "outputs": [
    {
     "data": {
      "image/png": "[encoded data removed]",
      "text/plain": [
       "<matplotlib.figure.Figure at 0x11fdedb0>"
      ]
     },
     "metadata": {},
     "output_type": "display_data"
    }
   ],
   "source": [
    "sns.distplot(population, color=\"green\")\n",
    "plt.title(\"Population Distribution\\n(Gamma k=0.5, θ=1)\")\n",
    "plt.xlim(0, 6)\n",
    "plt.show()"
   ]
  },
  {
   "cell_type": "markdown",
   "metadata": {},
   "source": [
    "First, we'll use bootstrapping to construct a confidence interval for the population standard deviation. Since the population is highly non-normal, we cannot rely on chi-square confidence intervals for the standard deviation; we do not know the sampling distribution for the sample standard deviation in this case."
   ]
  },
  {
   "cell_type": "code",
   "execution_count": 28,
   "metadata": {},
   "outputs": [
    {
     "name": "stdout",
     "output_type": "stream",
     "text": [
      "The population standard deviation (which we seek to estimate) is 0.71\n"
     ]
    }
   ],
   "source": [
    "print(\"The population standard deviation (which we seek to estimate) is {:.2f}\".format(stdev(population)))"
   ]
  },
  {
   "cell_type": "code",
   "execution_count": 29,
   "metadata": {},
   "outputs": [],
   "source": [
    "# Our true sample will be of size 200\n",
    "sample = np.random.choice(population, 200)"
   ]
  },
  {
   "cell_type": "code",
   "execution_count": 30,
   "metadata": {},
   "outputs": [],
   "source": [
    "# Construct 1000 bootstrap samples\n",
    "bs_samples = bootstrap(sample, k=1000)"
   ]
  },
  {
   "cell_type": "code",
   "execution_count": 31,
   "metadata": {},
   "outputs": [],
   "source": [
    "# Bootstrap sampling distribution for the sample standard deviation\n",
    "sampling_dist = [stdev(sample) for sample in bs_samples]"
   ]
  },
  {
   "cell_type": "code",
   "execution_count": 32,
   "metadata": {},
   "outputs": [
    {
     "data": {
      "image/png": "[encoded data removed]",
      "text/plain": [
       "<matplotlib.figure.Figure at 0x1365bd10>"
      ]
     },
     "metadata": {},
     "output_type": "display_data"
    }
   ],
   "source": [
    "sns.distplot(sampling_dist, color=\"dodgerblue\")\n",
    "plt.title(\"Bootstrap Sampling Distribution for the SD\")\n",
    "plt.show()"
   ]
  },
  {
   "cell_type": "code",
   "execution_count": 33,
   "metadata": {},
   "outputs": [],
   "source": [
    "# Bootstrap-estimates for the estimator and standard error \n",
    "estimate = mean(sampling_dist)\n",
    "SE = stdev(sampling_dist)"
   ]
  },
  {
   "cell_type": "code",
   "execution_count": 34,
   "metadata": {},
   "outputs": [],
   "source": [
    "# 2.5 / 97.5 percentiles\n",
    "p1 = np.percentile(sampling_dist, 2.5)\n",
    "p2 = np.percentile(sampling_dist, 97.5)"
   ]
  },
  {
   "cell_type": "code",
   "execution_count": 35,
   "metadata": {},
   "outputs": [
    {
     "name": "stdout",
     "output_type": "stream",
     "text": [
      "(0.51151377836698764, 0.86710122485378327)\n",
      "(0.51264654262977616, 0.86823398911657179)\n"
     ]
    }
   ],
   "source": [
    "# Basic/Pivot 95% Confidence Interval for the standard deviation\n",
    "CI = (2*estimate - p2, 2*estimate - p1)\n",
    "print(CI)\n",
    "# Percentile confidence interval\n",
    "CI_2 = (p1, p2)\n",
    "print(CI_2)"
   ]
  },
  {
   "cell_type": "markdown",
   "metadata": {},
   "source": [
    "We can see that both bootstrap confidence intervals capture the population value of 0.71, as desired."
   ]
  },
  {
   "cell_type": "markdown",
   "metadata": {},
   "source": [
    "***"
   ]
  },
  {
   "cell_type": "markdown",
   "metadata": {},
   "source": [
    "Now we'll use bootstrapping to construct a confidence interval for the difference between the 90th and 80th percentiles. In other words, we're interested in estimating the true distance between the 90th and 80th percentiles. The sampling distribution of this statistic is unknown (especially given that the population follows a Gamma distribution), and thus bootstrapping is an appropriate method."
   ]
  },
  {
   "cell_type": "code",
   "execution_count": 36,
   "metadata": {},
   "outputs": [
    {
     "name": "stdout",
     "output_type": "stream",
     "text": [
      "The population value for the difference between the 90th and 80th percentile (which we seek to estimate) is 0.53\n"
     ]
    }
   ],
   "source": [
    "true = np.percentile(population, 90) - np.percentile(population, 80)\n",
    "print(\"The population value for the difference between the 90th and 80th percentile (which we seek to estimate) is {:.2f}\".format(true))"
   ]
  },
  {
   "cell_type": "code",
   "execution_count": 37,
   "metadata": {},
   "outputs": [],
   "source": [
    "# Bootstrap sampling distribution for the sample difference in 90th and 80th percentiles\n",
    "sampling_dist2 = [np.percentile(sample, 90) - np.percentile(sample, 80) for sample in bs_samples]"
   ]
  },
  {
   "cell_type": "code",
   "execution_count": 38,
   "metadata": {},
   "outputs": [
    {
     "data": {
      "image/png": "[encoded data removed]",
      "text/plain": [
       "<matplotlib.figure.Figure at 0x136880d0>"
      ]
     },
     "metadata": {},
     "output_type": "display_data"
    }
   ],
   "source": [
    "sns.distplot(sampling_dist2, color=\"dodgerblue\")\n",
    "plt.title(\"Bootstrap Sampling Distribution\\nFor the Difference between 90th and 80th Percentiles\")\n",
    "plt.show()"
   ]
  },
  {
   "cell_type": "code",
   "execution_count": 39,
   "metadata": {},
   "outputs": [],
   "source": [
    "# Bootstrap-estimates for the estimator and standard error \n",
    "estimate = mean(sampling_dist2)\n",
    "SE = stdev(sampling_dist2)"
   ]
  },
  {
   "cell_type": "code",
   "execution_count": 40,
   "metadata": {},
   "outputs": [],
   "source": [
    "# 2.5 / 97.5 percentiles\n",
    "p1 = np.percentile(sampling_dist2, 2.5)\n",
    "p2 = np.percentile(sampling_dist2, 97.5)"
   ]
  },
  {
   "cell_type": "code",
   "execution_count": 41,
   "metadata": {},
   "outputs": [
    {
     "name": "stdout",
     "output_type": "stream",
     "text": [
      "(0.34578988941843369, 0.83423904487066303)\n",
      "(0.25692419234625674, 0.74537334779848607)\n"
     ]
    }
   ],
   "source": [
    "# Basic/Pivot 95% Confidence Interval for the difference between the 90th and 80th percentiles\n",
    "CI = (2*estimate - p2, 2*estimate - p1)\n",
    "print(CI)\n",
    "# Percentile confidence interval \n",
    "CI_2 = (p1, p2)\n",
    "print(CI_2)"
   ]
  },
  {
   "cell_type": "markdown",
   "metadata": {},
   "source": [
    "We can see that both bootstrap confidence intervals capture the population value of 0.71, as desired."
   ]
  }
 ],
 "metadata": {
  "kernelspec": {
   "display_name": "Python 3",
   "language": "python",
   "name": "python3"
  },
  "language_info": {
   "codemirror_mode": {
    "name": "ipython",
    "version": 3
   },
   "file_extension": ".py",
   "mimetype": "text/x-python",
   "name": "python",
   "nbconvert_exporter": "python",
   "pygments_lexer": "ipython3",
   "version": "3.6.2"
  }
 },
 "nbformat": 4,
 "nbformat_minor": 2
}
