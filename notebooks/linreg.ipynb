{
 "cells": [
  {
   "cell_type": "markdown",
   "metadata": {},
   "source": [
    "\n",
    "## Models from Scratch: Linear Regression\n",
    "\n",
    "##### Implementing the fundamental functions used to fit a linear regression model. \n",
    "***"
   ]
  },
  {
   "cell_type": "code",
   "execution_count": 1,
   "metadata": {},
   "outputs": [],
   "source": [
    "import numpy as np\n",
    "import pandas as pd\n",
    "from scipy.optimize import minimize"
   ]
  },
  {
   "cell_type": "code",
   "execution_count": 2,
   "metadata": {},
   "outputs": [
    {
     "data": {
      "text/html": [
       "<div>\n",
       "<style>\n",
       "    .dataframe thead tr:only-child th {\n",
       "        text-align: right;\n",
       "    }\n",
       "\n",
       "    .dataframe thead th {\n",
       "        text-align: left;\n",
       "    }\n",
       "\n",
       "    .dataframe tbody tr th {\n",
       "        vertical-align: top;\n",
       "    }\n",
       "</style>\n",
       "<table border=\"1\" class=\"dataframe\">\n",
       "  <thead>\n",
       "    <tr style=\"text-align: right;\">\n",
       "      <th></th>\n",
       "      <th>Income</th>\n",
       "      <th>Limit</th>\n",
       "      <th>Rating</th>\n",
       "      <th>Cards</th>\n",
       "      <th>Age</th>\n",
       "      <th>Education</th>\n",
       "      <th>Gender</th>\n",
       "      <th>Student</th>\n",
       "      <th>Married</th>\n",
       "      <th>Ethnicity</th>\n",
       "      <th>Balance</th>\n",
       "    </tr>\n",
       "  </thead>\n",
       "  <tbody>\n",
       "    <tr>\n",
       "      <th>1</th>\n",
       "      <td>2.700757</td>\n",
       "      <td>3606</td>\n",
       "      <td>283</td>\n",
       "      <td>2</td>\n",
       "      <td>34</td>\n",
       "      <td>11</td>\n",
       "      <td>Male</td>\n",
       "      <td>No</td>\n",
       "      <td>Yes</td>\n",
       "      <td>Caucasian</td>\n",
       "      <td>333</td>\n",
       "    </tr>\n",
       "    <tr>\n",
       "      <th>2</th>\n",
       "      <td>4.663675</td>\n",
       "      <td>6645</td>\n",
       "      <td>483</td>\n",
       "      <td>3</td>\n",
       "      <td>82</td>\n",
       "      <td>15</td>\n",
       "      <td>Female</td>\n",
       "      <td>Yes</td>\n",
       "      <td>Yes</td>\n",
       "      <td>Asian</td>\n",
       "      <td>903</td>\n",
       "    </tr>\n",
       "    <tr>\n",
       "      <th>3</th>\n",
       "      <td>4.650077</td>\n",
       "      <td>7075</td>\n",
       "      <td>514</td>\n",
       "      <td>4</td>\n",
       "      <td>71</td>\n",
       "      <td>11</td>\n",
       "      <td>Male</td>\n",
       "      <td>No</td>\n",
       "      <td>No</td>\n",
       "      <td>Asian</td>\n",
       "      <td>580</td>\n",
       "    </tr>\n",
       "    <tr>\n",
       "      <th>4</th>\n",
       "      <td>5.003436</td>\n",
       "      <td>9504</td>\n",
       "      <td>681</td>\n",
       "      <td>3</td>\n",
       "      <td>36</td>\n",
       "      <td>11</td>\n",
       "      <td>Female</td>\n",
       "      <td>No</td>\n",
       "      <td>No</td>\n",
       "      <td>Asian</td>\n",
       "      <td>964</td>\n",
       "    </tr>\n",
       "    <tr>\n",
       "      <th>5</th>\n",
       "      <td>4.023242</td>\n",
       "      <td>4897</td>\n",
       "      <td>357</td>\n",
       "      <td>2</td>\n",
       "      <td>68</td>\n",
       "      <td>16</td>\n",
       "      <td>Male</td>\n",
       "      <td>No</td>\n",
       "      <td>Yes</td>\n",
       "      <td>Caucasian</td>\n",
       "      <td>331</td>\n",
       "    </tr>\n",
       "  </tbody>\n",
       "</table>\n",
       "</div>"
      ],
      "text/plain": [
       "     Income  Limit  Rating  Cards  Age  Education  Gender Student Married  \\\n",
       "1  2.700757   3606     283      2   34         11    Male      No     Yes   \n",
       "2  4.663675   6645     483      3   82         15  Female     Yes     Yes   \n",
       "3  4.650077   7075     514      4   71         11    Male      No      No   \n",
       "4  5.003436   9504     681      3   36         11  Female      No      No   \n",
       "5  4.023242   4897     357      2   68         16    Male      No     Yes   \n",
       "\n",
       "   Ethnicity  Balance  \n",
       "1  Caucasian      333  \n",
       "2      Asian      903  \n",
       "3      Asian      580  \n",
       "4      Asian      964  \n",
       "5  Caucasian      331  "
      ]
     },
     "execution_count": 2,
     "metadata": {},
     "output_type": "execute_result"
    }
   ],
   "source": [
    "# Read in Credit data\n",
    "df = pd.read_csv('./data/Credit.csv', index_col=0)\n",
    "# Log-transform incomes (Generally good practice)\n",
    "df.Income = np.log(df.Income)\n",
    "df.head()"
   ]
  },
  {
   "cell_type": "code",
   "execution_count": 3,
   "metadata": {},
   "outputs": [],
   "source": [
    "# For now, let's look only at the quantitative predictors. We will use these to predict income.\n",
    "df2 = df[['Limit', 'Rating', 'Cards', 'Age', 'Education']].copy()"
   ]
  },
  {
   "cell_type": "code",
   "execution_count": 4,
   "metadata": {},
   "outputs": [],
   "source": [
    "# column vector of 1s (needed if we want an intercept term)\n",
    "ones = np.full((len(df2),), 1, dtype=int)\n",
    "df2.insert(0, 'Ones', ones)"
   ]
  },
  {
   "cell_type": "code",
   "execution_count": 5,
   "metadata": {},
   "outputs": [],
   "source": [
    "# We now have our matrix of data X\n",
    "X = np.asarray(df2)\n",
    "# And our vector of outputs Y. Note that the income column uses periods, not commas\n",
    "# Values will be interpreted as floats\n",
    "y = np.asarray(df['Income'])"
   ]
  },
  {
   "cell_type": "markdown",
   "metadata": {},
   "source": [
    "### Fitting The Model: First Approach\n",
    "#### In this first approach, we estimate the coefficients by algorithmically minimizing the residual sum of squares."
   ]
  },
  {
   "cell_type": "code",
   "execution_count": 6,
   "metadata": {},
   "outputs": [],
   "source": [
    "def RSS(b):\n",
    "    \"\"\"Residual sum of squares as a function of the beta vector\"\"\"\n",
    "    return np.linalg.norm(y - np.dot(X, b))**2"
   ]
  },
  {
   "cell_type": "code",
   "execution_count": 7,
   "metadata": {},
   "outputs": [],
   "source": [
    "def fit(X, y):\n",
    "    \"\"\"Returns the vector of beta estimates in linear regression given design matrix X and output vector y\"\"\"\n",
    "    # To estimate the coefficients (betas), we minimize RSS with respect to beta.\n",
    "    guess = np.zeros((6, ))\n",
    "    min = minimize(RSS, guess)\n",
    "    return min.x"
   ]
  },
  {
   "cell_type": "code",
   "execution_count": 8,
   "metadata": {},
   "outputs": [
    {
     "name": "stdout",
     "output_type": "stream",
     "text": [
      "[2.4868600598268422, 0.00017000883748685867, 0.00067429958418413428, -0.033626071064926981, 0.0038989089959176543, -0.0063675285935832875]\n"
     ]
    }
   ],
   "source": [
    "betas = fit(X, y)\n",
    "print(list(betas))"
   ]
  },
  {
   "cell_type": "markdown",
   "metadata": {},
   "source": [
    "So the linear regression function in this example is Y = -22.31+ 0.0023X<sub>1</sub> +  0.1449X<sub>2</sub> -  1.4973X<sub>3</sub> + 0.1987X<sub>4</sub> - 0.0942X<sub>5</sub>, where each X<sub>i</sub> corresponds to the predictors 'Limit', 'Rating', 'Cards', 'Age', and 'Education'."
   ]
  },
  {
   "cell_type": "markdown",
   "metadata": {},
   "source": [
    "### Fitting The Model: Second Approach\n",
    "\n",
    "#### The first method works fine; however, OLS estimation leads to a simple, closed-form solution to the minimization problem. Thus, there's no need to utilize an optimization algorithm. In general, this is not possible in other statistical learning methods. Specifically, the residual sum of squares is minimized by : b = (X<sup>T</sup>X)<sup>-1</sup>X<sup>T</sup>Y.                                       Let A = (X<sup>T</sup>X)<sup>-1</sup> and  C = </sup>X<sup>T</sup>Y. Thus, b = AC"
   ]
  },
  {
   "cell_type": "code",
   "execution_count": 9,
   "metadata": {},
   "outputs": [],
   "source": [
    "def fit2(X, y):\n",
    "    \"\"\"Returns the vector of beta estimates in linear regression given design matrix X and output vector y\"\"\"\n",
    "    X_trans = np.transpose(X)\n",
    "    A = np.linalg.inv(np.dot(X_trans, X))\n",
    "    C = np.dot(X_trans, y)\n",
    "    return np.dot(A, C)"
   ]
  },
  {
   "cell_type": "code",
   "execution_count": 10,
   "metadata": {},
   "outputs": [
    {
     "name": "stdout",
     "output_type": "stream",
     "text": [
      "[2.4899794482709297, 0.00017819003055282844, 0.00055237986324040145, -0.033037864075505879, 0.0038993761245820872, -0.0063938246477528438]\n"
     ]
    }
   ],
   "source": [
    "betas = list(fit2(X,y))\n",
    "print(betas)"
   ]
  },
  {
   "cell_type": "markdown",
   "metadata": {},
   "source": [
    "And we can see that both approaches resulted in the same estimated coefficients. "
   ]
  },
  {
   "cell_type": "markdown",
   "metadata": {},
   "source": [
    "### A basic Linear Regression Class"
   ]
  },
  {
   "cell_type": "code",
   "execution_count": 11,
   "metadata": {},
   "outputs": [],
   "source": [
    "class LinearRegression():\n",
    "\n",
    "    def __init__(self, X, y):\n",
    "        \"\"\"Initialize a Linear Regression object\"\"\"\n",
    "        if len(X) != len(y):\n",
    "            raise ValueError(\"Dimensional error: {} != {}\".format(len(X), len(y)))\n",
    "        self.X = np.asarray(X)\n",
    "        self.y = np.asarray(y)\n",
    "        self.n = len(X)  # Number of observations\n",
    "        self.p = len(X[0])  # Number of predictors\n",
    "        self.coefficients = None  # Coefficients to be estimated\n",
    "\n",
    "    def fit(self):\n",
    "        \"\"\"Fits the data to the linear regression model by estimating the coefficients.\"\"\"\n",
    "        X_trans = np.transpose(self.X)\n",
    "        A = np.linalg.inv(np.dot(X_trans, self.X))\n",
    "        C = np.dot(X_trans, self.y)\n",
    "\n",
    "        # Update estimated coefficients\n",
    "        self.coefficients = np.dot(A, C)\n",
    "\n",
    "    def predict(self, x):\n",
    "        \"\"\"Predicts y given an observation vector x\"\"\"\n",
    "        y = 0\n",
    "        for term in list(zip(self.coefficients, x)):\n",
    "            y += term[0]*term[1]\n",
    "        return y"
   ]
  },
  {
   "cell_type": "code",
   "execution_count": 12,
   "metadata": {},
   "outputs": [],
   "source": [
    "model = LinearRegression(X, y)"
   ]
  },
  {
   "cell_type": "code",
   "execution_count": 13,
   "metadata": {},
   "outputs": [],
   "source": [
    "model.fit()"
   ]
  },
  {
   "cell_type": "code",
   "execution_count": 14,
   "metadata": {},
   "outputs": [
    {
     "data": {
      "text/plain": [
       "True"
      ]
     },
     "execution_count": 14,
     "metadata": {},
     "output_type": "execute_result"
    }
   ],
   "source": [
    "list(model.coefficients) == betas"
   ]
  },
  {
   "cell_type": "code",
   "execution_count": 15,
   "metadata": {},
   "outputs": [
    {
     "name": "stdout",
     "output_type": "stream",
     "text": [
      "Predicted value for the first training observation: 3.2850271887009606\n",
      "Actual value for the first training observation: 2.700757003608068\n"
     ]
    }
   ],
   "source": [
    "print(\"Predicted value for the first training observation: {}\".format(model.predict([1, 3606, 283, 2, 34, 11])))\n",
    "print(\"Actual value for the first training observation: {}\".format(y[0]))"
   ]
  },
  {
   "cell_type": "markdown",
   "metadata": {},
   "source": [
    "***"
   ]
  }
 ],
 "metadata": {
  "kernelspec": {
   "display_name": "Python 3",
   "language": "python",
   "name": "python3"
  },
  "language_info": {
   "codemirror_mode": {
    "name": "ipython",
    "version": 3
   },
   "file_extension": ".py",
   "mimetype": "text/x-python",
   "name": "python",
   "nbconvert_exporter": "python",
   "pygments_lexer": "ipython3",
   "version": "3.6.2"
  }
 },
 "nbformat": 4,
 "nbformat_minor": 2
}
