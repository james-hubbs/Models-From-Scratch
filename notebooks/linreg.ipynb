{
 "cells": [
  {
   "cell_type": "markdown",
   "metadata": {},
   "source": [
    "# Models from Scratch: Linear Regression \n",
    "## *Implementation*\n",
    "***"
   ]
  },
  {
   "cell_type": "code",
   "execution_count": 19,
   "metadata": {},
   "outputs": [],
   "source": [
    "import numpy as np\n",
    "import pandas as pd\n",
    "from scipy.optimize import minimize"
   ]
  },
  {
   "cell_type": "code",
   "execution_count": 20,
   "metadata": {},
   "outputs": [],
   "source": [
    "class LinearRegression():\n",
    "\n",
    "    def __init__(self, X, y):\n",
    "        \"\"\" Initialize a Linear Regression object\n",
    "        \n",
    "            Arguments:\n",
    "            X -- Design matrix (Pandas dataframe, numpy array, 2D list)\n",
    "            y -- Vector of response variable (Pandas series, numpy array, list)\n",
    "        \"\"\"\n",
    "        if len(X) != len(y):\n",
    "            raise ValueError(\"Dimensional error: {} != {}\".format(len(X), len(y)))\n",
    "        \n",
    "        self.X = np.asarray(X)\n",
    "        self.y = np.asarray(y)\n",
    "        self.n = len(X)  # Number of observations\n",
    "        self.p = len(X[0])  # Number of predictors\n",
    "        self.coefficients = None  # Coefficients to be estimated\n",
    "    \n",
    "    def RSS(self, b):\n",
    "        \"\"\"Residual sum of squares as a function of the beta vector (used for estimation)\"\"\"\n",
    "        return np.linalg.norm(self.y - np.dot(self.X, b))**2\n",
    "    \n",
    "    def TSS(self):\n",
    "        \"\"\"Returns the total sum of squares for this model\"\"\"\n",
    "        return np.sum((self.y - np.mean(self.y))**2)\n",
    "    \n",
    "    def MSE(self):\n",
    "        return self.RSS(self.coefficients) / self.n\n",
    "    \n",
    "    def r_squared(self):\n",
    "        \"\"\"Returns the r sqaured value for this model\"\"\"\n",
    "        return 1 - self.RSS(self.coefficients) / self.TSS()\n",
    "\n",
    "    def fit(self, method='matrix'):\n",
    "        \"\"\" Fits the data to the linear regression model by estimating the coefficients.\n",
    "            \n",
    "            Keyword Arguements:\n",
    "            method -- can be set to 'matrix' (default) or 'minimize'\n",
    "        \"\"\"\n",
    "        if method == 'matrix':\n",
    "            # Use standard matrix solution\n",
    "            X_trans = np.transpose(self.X)\n",
    "            A = np.linalg.inv(np.dot(X_trans, self.X))\n",
    "            C = np.dot(X_trans, self.y)\n",
    "\n",
    "            # Update estimated coefficients\n",
    "            self.coefficients = np.dot(A, C)\n",
    "        \n",
    "        elif method == 'minimize': \n",
    "            # minimize RSS with respect to beta\n",
    "            guess = np.zeros((self.p, ))\n",
    "            min = minimize(self.RSS, guess)\n",
    "            self.coefficients = min.x\n",
    "        else:\n",
    "            raise ValueError(\"Invalid method argument: {}\".format(method))\n",
    "            \n",
    "    def predict(self, x):\n",
    "        \"\"\"Predicts y given an observation vector x\"\"\"\n",
    "        y = 0\n",
    "        for term in list(zip(self.coefficients, x)):\n",
    "            y += term[0]*term[1]\n",
    "        return y"
   ]
  },
  {
   "cell_type": "markdown",
   "metadata": {},
   "source": [
    "## *Application*\n",
    "***"
   ]
  },
  {
   "cell_type": "code",
   "execution_count": 21,
   "metadata": {},
   "outputs": [
    {
     "data": {
      "text/html": [
       "<div>\n",
       "<style>\n",
       "    .dataframe thead tr:only-child th {\n",
       "        text-align: right;\n",
       "    }\n",
       "\n",
       "    .dataframe thead th {\n",
       "        text-align: left;\n",
       "    }\n",
       "\n",
       "    .dataframe tbody tr th {\n",
       "        vertical-align: top;\n",
       "    }\n",
       "</style>\n",
       "<table border=\"1\" class=\"dataframe\">\n",
       "  <thead>\n",
       "    <tr style=\"text-align: right;\">\n",
       "      <th></th>\n",
       "      <th>Income</th>\n",
       "      <th>Limit</th>\n",
       "      <th>Rating</th>\n",
       "      <th>Cards</th>\n",
       "      <th>Age</th>\n",
       "      <th>Education</th>\n",
       "      <th>Gender</th>\n",
       "      <th>Student</th>\n",
       "      <th>Married</th>\n",
       "      <th>Ethnicity</th>\n",
       "      <th>Balance</th>\n",
       "    </tr>\n",
       "  </thead>\n",
       "  <tbody>\n",
       "    <tr>\n",
       "      <th>1</th>\n",
       "      <td>2.700757</td>\n",
       "      <td>3606</td>\n",
       "      <td>283</td>\n",
       "      <td>2</td>\n",
       "      <td>34</td>\n",
       "      <td>11</td>\n",
       "      <td>Male</td>\n",
       "      <td>No</td>\n",
       "      <td>Yes</td>\n",
       "      <td>Caucasian</td>\n",
       "      <td>333</td>\n",
       "    </tr>\n",
       "    <tr>\n",
       "      <th>2</th>\n",
       "      <td>4.663675</td>\n",
       "      <td>6645</td>\n",
       "      <td>483</td>\n",
       "      <td>3</td>\n",
       "      <td>82</td>\n",
       "      <td>15</td>\n",
       "      <td>Female</td>\n",
       "      <td>Yes</td>\n",
       "      <td>Yes</td>\n",
       "      <td>Asian</td>\n",
       "      <td>903</td>\n",
       "    </tr>\n",
       "    <tr>\n",
       "      <th>3</th>\n",
       "      <td>4.650077</td>\n",
       "      <td>7075</td>\n",
       "      <td>514</td>\n",
       "      <td>4</td>\n",
       "      <td>71</td>\n",
       "      <td>11</td>\n",
       "      <td>Male</td>\n",
       "      <td>No</td>\n",
       "      <td>No</td>\n",
       "      <td>Asian</td>\n",
       "      <td>580</td>\n",
       "    </tr>\n",
       "    <tr>\n",
       "      <th>4</th>\n",
       "      <td>5.003436</td>\n",
       "      <td>9504</td>\n",
       "      <td>681</td>\n",
       "      <td>3</td>\n",
       "      <td>36</td>\n",
       "      <td>11</td>\n",
       "      <td>Female</td>\n",
       "      <td>No</td>\n",
       "      <td>No</td>\n",
       "      <td>Asian</td>\n",
       "      <td>964</td>\n",
       "    </tr>\n",
       "    <tr>\n",
       "      <th>5</th>\n",
       "      <td>4.023242</td>\n",
       "      <td>4897</td>\n",
       "      <td>357</td>\n",
       "      <td>2</td>\n",
       "      <td>68</td>\n",
       "      <td>16</td>\n",
       "      <td>Male</td>\n",
       "      <td>No</td>\n",
       "      <td>Yes</td>\n",
       "      <td>Caucasian</td>\n",
       "      <td>331</td>\n",
       "    </tr>\n",
       "  </tbody>\n",
       "</table>\n",
       "</div>"
      ],
      "text/plain": [
       "     Income  Limit  Rating  Cards  Age  Education  Gender Student Married  \\\n",
       "1  2.700757   3606     283      2   34         11    Male      No     Yes   \n",
       "2  4.663675   6645     483      3   82         15  Female     Yes     Yes   \n",
       "3  4.650077   7075     514      4   71         11    Male      No      No   \n",
       "4  5.003436   9504     681      3   36         11  Female      No      No   \n",
       "5  4.023242   4897     357      2   68         16    Male      No     Yes   \n",
       "\n",
       "   Ethnicity  Balance  \n",
       "1  Caucasian      333  \n",
       "2      Asian      903  \n",
       "3      Asian      580  \n",
       "4      Asian      964  \n",
       "5  Caucasian      331  "
      ]
     },
     "execution_count": 21,
     "metadata": {},
     "output_type": "execute_result"
    }
   ],
   "source": [
    "# Read in Credit data\n",
    "df = pd.read_csv('./data/Credit.csv', index_col=0)\n",
    "# Log-transform incomes (Generally good practice)\n",
    "df.Income = np.log(df.Income)\n",
    "df.head()"
   ]
  },
  {
   "cell_type": "code",
   "execution_count": 22,
   "metadata": {},
   "outputs": [],
   "source": [
    "# let's look only at the quantitative predictors. We will use these to predict income.\n",
    "df2 = df[['Limit', 'Rating', 'Cards', 'Age', 'Education']].copy()"
   ]
  },
  {
   "cell_type": "code",
   "execution_count": 23,
   "metadata": {},
   "outputs": [],
   "source": [
    "# Column vector of 1s (needed if we want an intercept term)\n",
    "ones = np.full((len(df2),), 1, dtype=int)\n",
    "df2.insert(0, 'Ones', ones)"
   ]
  },
  {
   "cell_type": "code",
   "execution_count": 24,
   "metadata": {},
   "outputs": [],
   "source": [
    "# We now have our matrix of data X\n",
    "X = np.asarray(df2)\n",
    "\n",
    "# And our vector of outputs Y\n",
    "y = np.asarray(df['Income'])"
   ]
  },
  {
   "cell_type": "code",
   "execution_count": 25,
   "metadata": {},
   "outputs": [
    {
     "name": "stdout",
     "output_type": "stream",
     "text": [
      "R^2: 0.543042632219\n",
      "RMSE: 0.46682799021\n"
     ]
    }
   ],
   "source": [
    "# Construct model\n",
    "model = LinearRegression(X, y)\n",
    "model.fit()\n",
    "\n",
    "print('R^2:', model.r_squared())\n",
    "print('RMSE:', np.sqrt(model.MSE()))"
   ]
  },
  {
   "cell_type": "code",
   "execution_count": 26,
   "metadata": {},
   "outputs": [
    {
     "name": "stdout",
     "output_type": "stream",
     "text": [
      "Predicted value for the first training observation: 3.2850271887009606\n",
      "Actual value for the first training observation: 2.700757003608068\n"
     ]
    }
   ],
   "source": [
    "print(\"Predicted value for the first training observation: {}\".format(model.predict([1, 3606, 283, 2, 34, 11])))\n",
    "print(\"Actual value for the first training observation: {}\".format(y[0]))"
   ]
  }
 ],
 "metadata": {
  "kernelspec": {
   "display_name": "Python 3",
   "language": "python",
   "name": "python3"
  },
  "language_info": {
   "codemirror_mode": {
    "name": "ipython",
    "version": 3
   },
   "file_extension": ".py",
   "mimetype": "text/x-python",
   "name": "python",
   "nbconvert_exporter": "python",
   "pygments_lexer": "ipython3",
   "version": "3.6.2"
  }
 },
 "nbformat": 4,
 "nbformat_minor": 2
}
