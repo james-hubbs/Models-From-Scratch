{
 "cells": [
  {
   "cell_type": "markdown",
   "metadata": {},
   "source": [
    "# Models from Scratch: K-Nearest Neighbors\n",
    "## *Implementation*\n",
    "***"
   ]
  },
  {
   "cell_type": "code",
   "execution_count": 384,
   "metadata": {},
   "outputs": [],
   "source": [
    "import math\n",
    "import pandas as pd\n",
    "import numpy as np"
   ]
  },
  {
   "cell_type": "code",
   "execution_count": 385,
   "metadata": {},
   "outputs": [],
   "source": [
    "class KNN:\n",
    "    \n",
    "    def __init__(self, X, y, k=5):\n",
    "        \"\"\"\n",
    "        Initalizes a KNN object\n",
    "        \n",
    "        Parameters: \n",
    "            X -- Predictor matrix (Pandas dataframe, numpy array, 2D list)\n",
    "            y -- Vector of response variable (Pandas series, numpy array, list)\n",
    "        \"\"\"\n",
    "        self.X = np.asarray(X)\n",
    "        self.y = np.asarray(y).reshape(len(X),)\n",
    "        \n",
    "        self.n = len(X)\n",
    "        self.p = X.shape[1]\n",
    "        self.k = k\n",
    "        \n",
    "    def classify(self, x):\n",
    "        \"\"\"Simple, brute-force implementation of KNN. Classifies a feature vector x. \"\"\"\n",
    "        if len(x) != self.p:\n",
    "            raise ValueError(\"Dimension Error: feature vector x has dimension {} but model has {} predictors\".format(len(x), self.p))\n",
    "        \n",
    "        distances = []\n",
    "        for index, observation in enumerate(self.X):\n",
    "            d = KNN.distance(x, list(observation))\n",
    "            # Append distance along with this observation's index position\n",
    "            distances.append((d, index)) \n",
    "        \n",
    "        # Sort distances by the first tuple value (i.e., the distance -- not the index)\n",
    "        # And select only the closest k points\n",
    "        distances = sorted(distances, key=lambda x: x[0])[1:self.k+1]\n",
    "        \n",
    "        # Use indexes to determine which y value these closest X values correspond to\n",
    "        indexes = [i[1] for i in distances]\n",
    "        classes = [self.y[i] for i in indexes]\n",
    "        \n",
    "        return KNN._most_common(classes)\n",
    "    \n",
    "    def train_error(self):\n",
    "        \"Returns the training error for this model\"\n",
    "        incorrect = 0\n",
    "        for index, observation in enumerate(self.X):\n",
    "            if self.classify(observation) != self.y[index]:\n",
    "                incorrect += 1\n",
    "        return incorrect / self.n\n",
    "    \n",
    "    def test_error(self, X, y):\n",
    "        \"\"\"Returns the testing error of this model given new data X and y\"\"\"\n",
    "        X = np.asarray(X)\n",
    "        y = np.asarray(y)\n",
    "        \n",
    "        incorrect = 0\n",
    "        for index, observation in enumerate(X):\n",
    "            if self.classify(observation) != y[index]:\n",
    "                incorrect += 1\n",
    "        \n",
    "        return incorrect / len(X)\n",
    "        \n",
    "    \n",
    "    # ---------- Helper methods ---------- #\n",
    "    \n",
    "    @staticmethod\n",
    "    def distance(p1, p2):\n",
    "        \"\"\"Returns the euclidean distance between points p1 and p2 in p-dimensional space.\"\"\"\n",
    "        \n",
    "        # Points must be of same dimension\n",
    "        if len(p1) != len(p2):\n",
    "            raise ValueError(\"Dimension Error: {} != {}\".format(len(p1), len(p2)))\n",
    "        \n",
    "        distance = 0\n",
    "        for pair in zip(p1, p2):\n",
    "            distance += (pair[0] - pair[1])**2\n",
    "        return math.sqrt(distance) \n",
    "    \n",
    "    \n",
    "    @staticmethod    \n",
    "    def _most_common(lst):\n",
    "        \"\"\"Returns the most common element in a list\"\"\"\n",
    "        return max(set(lst), key=lst.count)"
   ]
  },
  {
   "cell_type": "markdown",
   "metadata": {},
   "source": [
    "## *Application*\n",
    "***"
   ]
  },
  {
   "cell_type": "markdown",
   "metadata": {},
   "source": [
    "We'll use the famous Iris dataset and apply the KNN algorithm to classify the plant species"
   ]
  },
  {
   "cell_type": "code",
   "execution_count": 386,
   "metadata": {},
   "outputs": [
    {
     "data": {
      "text/html": [
       "<div>\n",
       "<style>\n",
       "    .dataframe thead tr:only-child th {\n",
       "        text-align: right;\n",
       "    }\n",
       "\n",
       "    .dataframe thead th {\n",
       "        text-align: left;\n",
       "    }\n",
       "\n",
       "    .dataframe tbody tr th {\n",
       "        vertical-align: top;\n",
       "    }\n",
       "</style>\n",
       "<table border=\"1\" class=\"dataframe\">\n",
       "  <thead>\n",
       "    <tr style=\"text-align: right;\">\n",
       "      <th></th>\n",
       "      <th>slength</th>\n",
       "      <th>swidth</th>\n",
       "      <th>plength</th>\n",
       "      <th>pwidth</th>\n",
       "      <th>species</th>\n",
       "    </tr>\n",
       "  </thead>\n",
       "  <tbody>\n",
       "    <tr>\n",
       "      <th>66</th>\n",
       "      <td>5.6</td>\n",
       "      <td>3.0</td>\n",
       "      <td>4.5</td>\n",
       "      <td>1.5</td>\n",
       "      <td>Iris-versicolor</td>\n",
       "    </tr>\n",
       "    <tr>\n",
       "      <th>63</th>\n",
       "      <td>6.1</td>\n",
       "      <td>2.9</td>\n",
       "      <td>4.7</td>\n",
       "      <td>1.4</td>\n",
       "      <td>Iris-versicolor</td>\n",
       "    </tr>\n",
       "    <tr>\n",
       "      <th>37</th>\n",
       "      <td>4.9</td>\n",
       "      <td>3.1</td>\n",
       "      <td>1.5</td>\n",
       "      <td>0.1</td>\n",
       "      <td>Iris-setosa</td>\n",
       "    </tr>\n",
       "    <tr>\n",
       "      <th>18</th>\n",
       "      <td>5.7</td>\n",
       "      <td>3.8</td>\n",
       "      <td>1.7</td>\n",
       "      <td>0.3</td>\n",
       "      <td>Iris-setosa</td>\n",
       "    </tr>\n",
       "    <tr>\n",
       "      <th>44</th>\n",
       "      <td>5.1</td>\n",
       "      <td>3.8</td>\n",
       "      <td>1.9</td>\n",
       "      <td>0.4</td>\n",
       "      <td>Iris-setosa</td>\n",
       "    </tr>\n",
       "  </tbody>\n",
       "</table>\n",
       "</div>"
      ],
      "text/plain": [
       "    slength  swidth  plength  pwidth          species\n",
       "66      5.6     3.0      4.5     1.5  Iris-versicolor\n",
       "63      6.1     2.9      4.7     1.4  Iris-versicolor\n",
       "37      4.9     3.1      1.5     0.1      Iris-setosa\n",
       "18      5.7     3.8      1.7     0.3      Iris-setosa\n",
       "44      5.1     3.8      1.9     0.4      Iris-setosa"
      ]
     },
     "execution_count": 386,
     "metadata": {},
     "output_type": "execute_result"
    }
   ],
   "source": [
    "df = pd.read_csv('https://archive.ics.uci.edu/ml/machine-learning-databases/iris/iris.data', names=['slength', 'swidth','plength', 'pwidth', 'species'])\n",
    "# Shuffle data\n",
    "df = df.sample(frac=1)\n",
    "df.head()"
   ]
  },
  {
   "cell_type": "code",
   "execution_count": 387,
   "metadata": {},
   "outputs": [],
   "source": [
    "# Predictor matrix\n",
    "X = df[['slength', 'swidth','plength', 'pwidth']]\n",
    "\n",
    "# Respones vector\n",
    "y = df[['species']]"
   ]
  },
  {
   "cell_type": "code",
   "execution_count": 388,
   "metadata": {},
   "outputs": [
    {
     "data": {
      "text/plain": [
       "'Iris-setosa'"
      ]
     },
     "execution_count": 388,
     "metadata": {},
     "output_type": "execute_result"
    }
   ],
   "source": [
    "# Partition data into train/test sets\n",
    "train_X, train_y = X[0:100], y[0:100]\n",
    "test_X, test_y = X[100:], y[100:]\n",
    "\n",
    "# Construct model\n",
    "model = KNN(train_X, train_y, k=10)\n",
    "\n",
    "# Classify a plant with the following features: 5.1, 3.5, 1.4, 0.2\n",
    "model.classify([5.1, 3.5, 1.4, 0.2])"
   ]
  },
  {
   "cell_type": "code",
   "execution_count": 389,
   "metadata": {},
   "outputs": [
    {
     "data": {
      "text/plain": [
       "0.04"
      ]
     },
     "execution_count": 389,
     "metadata": {},
     "output_type": "execute_result"
    }
   ],
   "source": [
    "# Test the model\n",
    "model.test_error(test_X, test_y)"
   ]
  },
  {
   "cell_type": "markdown",
   "metadata": {},
   "source": [
    "Thus, KNN with k=10 has an accuracy of about 94%"
   ]
  }
 ],
 "metadata": {
  "kernelspec": {
   "display_name": "Python 3",
   "language": "python",
   "name": "python3"
  },
  "language_info": {
   "codemirror_mode": {
    "name": "ipython",
    "version": 3
   },
   "file_extension": ".py",
   "mimetype": "text/x-python",
   "name": "python",
   "nbconvert_exporter": "python",
   "pygments_lexer": "ipython3",
   "version": "3.6.2"
  }
 },
 "nbformat": 4,
 "nbformat_minor": 2
}
